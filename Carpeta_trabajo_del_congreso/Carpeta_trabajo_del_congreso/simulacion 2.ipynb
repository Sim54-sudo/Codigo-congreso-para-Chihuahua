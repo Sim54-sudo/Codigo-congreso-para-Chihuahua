{
 "cells": [
  {
   "cell_type": "code",
   "execution_count": 2,
   "id": "308eab3e-13f9-4364-94d3-09932c5894a7",
   "metadata": {},
   "outputs": [
    {
     "name": "stdout",
     "output_type": "stream",
     "text": [
      "Probabilidades de encontrar el electrón en diferentes posiciones:\n",
      "{0.75: 0.272, 0.5: 0.254, 0.0: 0.242, 0.25: 0.256}\n"
     ]
    },
    {
     "ename": "NameError",
     "evalue": "name 'plot_histogram' is not defined",
     "output_type": "error",
     "traceback": [
      "\u001b[0;31m---------------------------------------------------------------------------\u001b[0m",
      "\u001b[0;31mNameError\u001b[0m                                 Traceback (most recent call last)",
      "Cell \u001b[0;32mIn[2], line 68\u001b[0m\n\u001b[1;32m     66\u001b[0m \u001b[38;5;28mprint\u001b[39m(\u001b[38;5;124m\"\u001b[39m\u001b[38;5;124mProbabilidades de encontrar el electrón en diferentes posiciones:\u001b[39m\u001b[38;5;124m\"\u001b[39m)\n\u001b[1;32m     67\u001b[0m \u001b[38;5;28mprint\u001b[39m(probabilities)\n\u001b[0;32m---> 68\u001b[0m \u001b[43mplot_histogram\u001b[49m(counts)\n",
      "\u001b[0;31mNameError\u001b[0m: name 'plot_histogram' is not defined"
     ]
    }
   ],
   "source": [
    "import numpy as np\n",
    "from scipy.linalg import expm\n",
    "from qiskit import QuantumCircuit, transpile, assemble\n",
    "from qiskit_aer import Aer\n",
    "\n",
    "# Definición del Hamiltoniano para el sistema\n",
    "def hamiltonian():\n",
    "    # Definición de la matriz Hamiltoniana aquí\n",
    "    # La matriz Hamiltoniana es para un muro de potencial:\n",
    "    V0 = 1\n",
    "    H = np.array([[V0, -1], [-1, V0]])\n",
    "    return H\n",
    "\n",
    "# Función para aplicar el operador de evolución temporal\n",
    "def time_evolution_operator(circuit, dt, num_qubits):\n",
    "    # Implementa la evolución temporal del sistema aquí\n",
    "    hbar = 1  # Assuming hbar = 1 for simplicity\n",
    "    H = hamiltonian()\n",
    "    U = expm(-1j * H * dt / hbar)  # Forma del operador de evolución en el tiempo para la hamiltoniana específica.\n",
    "    # Apply the time evolution operator to the quantum circuit\n",
    "    circuit.unitary(U, range(num_qubits))\n",
    "\n",
    "# Parámetros del problema\n",
    "L = 1  # Longitud del pozo de potencial\n",
    "V0 = 1  # Potencial fuera del pozo de potencial\n",
    "N = 4  # Número de puntos en los que dividimos el espacio\n",
    "\n",
    "# Parámetros de la simulación\n",
    "timesteps = 100  # Número de pasos de tiempo\n",
    "dt = 0.1  # Incremento de tiempo\n",
    "\n",
    "# Crear circuito cuántico\n",
    "num_qubits = int(np.log2(N))\n",
    "qc = QuantumCircuit(num_qubits, num_qubits)\n",
    "\n",
    "# Inicializar el estado del electrón en una superposición\n",
    "qc.h(range(num_qubits))\n",
    "\n",
    "# Evolución temporal\n",
    "for _ in range(timesteps):\n",
    "    time_evolution_operator(qc, dt, num_qubits)\n",
    "\n",
    "# Medir los qubits\n",
    "qc.measure(range(num_qubits), range(num_qubits))\n",
    "\n",
    "# Simular el circuito cuántico\n",
    "simulator = Aer.get_backend('qasm_simulator')\n",
    "compiled_circuit = transpile(qc, simulator)\n",
    "\n",
    "results = simulator.run(compiled_circuit).result()\n",
    "\n",
    "# Recibir los conteos de las medidas\n",
    "counts = results.get_counts()\n",
    "\n",
    "# Calcular las probabilidades de encontrar el electrón en diferentes regiones del espacio\n",
    "probabilities = {}\n",
    "n = 1000\n",
    "for key, value in counts.items():\n",
    "    position = int(key, 2) * L / (2 ** num_qubits)\n",
    "    if position in probabilities:\n",
    "        probabilities[position] += value / n\n",
    "    else:\n",
    "        probabilities[position] = value / n\n",
    "\n",
    "# Mostrar resultados\n",
    "print(\"Probabilidades de encontrar el electrón en diferentes posiciones:\")\n",
    "print(probabilities)\n",
    "plot_histogram(counts)"
   ]
  },
  {
   "cell_type": "code",
   "execution_count": null,
   "id": "cd828ecf-43ba-4b84-b53d-f5482aadde71",
   "metadata": {},
   "outputs": [],
   "source": []
  }
 ],
 "metadata": {
  "kernelspec": {
   "display_name": "Python 3 (ipykernel)",
   "language": "python",
   "name": "python3"
  },
  "language_info": {
   "codemirror_mode": {
    "name": "ipython",
    "version": 3
   },
   "file_extension": ".py",
   "mimetype": "text/x-python",
   "name": "python",
   "nbconvert_exporter": "python",
   "pygments_lexer": "ipython3",
   "version": "3.10.12"
  }
 },
 "nbformat": 4,
 "nbformat_minor": 5
}
