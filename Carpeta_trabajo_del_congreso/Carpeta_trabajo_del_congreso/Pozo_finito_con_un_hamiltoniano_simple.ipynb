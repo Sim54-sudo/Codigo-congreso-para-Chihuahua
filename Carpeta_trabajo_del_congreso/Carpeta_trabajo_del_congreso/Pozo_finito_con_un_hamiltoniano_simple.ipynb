{
 "cells": [
  {
   "cell_type": "code",
   "execution_count": 1,
   "id": "7bb94473-3388-47bc-b810-6b9c90f028eb",
   "metadata": {},
   "outputs": [
    {
     "name": "stdout",
     "output_type": "stream",
     "text": [
      "Probabilidades de encontrar el electrón en diferentes posiciones:\n",
      "{0.5: 0.274, 0.0: 0.253, 0.75: 0.253, 0.25: 0.244}\n"
     ]
    },
    {
     "data": {
      "image/png": "[encoded data removed]",
      "text/plain": [
       "<Figure size 700x500 with 1 Axes>"
      ]
     },
     "execution_count": 1,
     "metadata": {},
     "output_type": "execute_result"
    }
   ],
   "source": [
    "import numpy as np\n",
    "from scipy.linalg import expm\n",
    "from qiskit import QuantumCircuit, transpile, assemble\n",
    "from qiskit_aer import Aer\n",
    "from qiskit.visualization import plot_histogram\n",
    "\n",
    "# Parámetros del problema\n",
    "L = 1  # Longitud del pozo de potencial\n",
    "V0 = 1  # Potencial fuera del pozo de potencial\n",
    "N = 4  # Número de puntos en los que dividimos el espacio\n",
    "\n",
    "# Parámetros de la simulación\n",
    "timesteps = 100  # Número de pasos de tiempo\n",
    "dt = 0.1  # Incremento de tiempo\n",
    "\n",
    "# Definición del Hamiltoniano para el sístema\n",
    "def hamiltonian():\n",
    "    # Definición de la matriz Hamiltoniana aquí\n",
    "    # La matriz Hamiltoniana es para un muro de potencial:\n",
    "    V0=1\n",
    "    H = np.array([[V0, -1], [-1, V0]])\n",
    "    return H\n",
    "\n",
    "# Función para aplicar el operador de evolución temporal\n",
    "def time_evolution_operator(circuit, dt):\n",
    "    # Implementa la evolución temporal del sistema aquí\n",
    "    H = hamiltonian()\n",
    "    hbar=1 #Asumiendo hbar=1 por simplicidad\n",
    "    U = expm(-1j * H * dt / hbar) #Forma del operador de evolución en el tiempo para la hamiltoniana específica.\n",
    "    # Como siguiente objetivo para otros hamiltonianos, hay que usar the la descomposición de Trotter-Suzuki u otro metodo de integración númerica\n",
    "    # Aquí se aplica el operador de evolución en el tiempo al circuito cuántico\n",
    "    circuit.unitary(U, range(num_qubits))\n",
    "\n",
    "    \n",
    "\n",
    "# Crear circuito cuántico\n",
    "num_qubits = int(np.log2(N))\n",
    "qc = QuantumCircuit(num_qubits, num_qubits)\n",
    "\n",
    "# Inicializar el estado del electrón en una superposición\n",
    "qc.h(range(num_qubits))\n",
    "\n",
    "# Evolución temporal\n",
    "for _ in range(timesteps):\n",
    "    time_evolution_operator(qc, dt)\n",
    "\n",
    "# Medir los qubits\n",
    "qc.measure(range(num_qubits), range(num_qubits))\n",
    "\n",
    "n=1000\n",
    "# Simular el circuito cuántico\n",
    "simulator = Aer.get_backend('qasm_simulator')\n",
    "result = transpile(qc, simulator)\n",
    "\n",
    "# unir el circuito cuántico en un Qobj \n",
    "qobj=assemble(result)\n",
    "\n",
    "# Correr el circuito cuántico simulado sobre el backend\n",
    "results= simulator.run(result).result()\n",
    "\n",
    "# recibir los conteos de las medidas\n",
    "counts =results.get_counts(result)\n",
    "\n",
    "# Calcular las probabilidades de encontrar el electrón en diferentes regiones del espacio\n",
    "probabilities = {}\n",
    "for key, value in counts.items():\n",
    "    position = int(key, 2) * L / (2 ** num_qubits)\n",
    "    if position in probabilities:\n",
    "        probabilities[position] += value / n\n",
    "    else:\n",
    "        probabilities[position] = value / n\n",
    "\n",
    "# Mostrar resultados\n",
    "print(\"Probabilidades de encontrar el electrón en diferentes posiciones:\")\n",
    "print(probabilities)\n",
    "plot_histogram(counts)"
   ]
  },
  {
   "cell_type": "code",
   "execution_count": null,
   "id": "7910e3e3-9b21-4077-bb62-836e7fd585e7",
   "metadata": {},
   "outputs": [],
   "source": []
  }
 ],
 "metadata": {
  "kernelspec": {
   "display_name": "Python 3 (ipykernel)",
   "language": "python",
   "name": "python3"
  },
  "language_info": {
   "codemirror_mode": {
    "name": "ipython",
    "version": 3
   },
   "file_extension": ".py",
   "mimetype": "text/x-python",
   "name": "python",
   "nbconvert_exporter": "python",
   "pygments_lexer": "ipython3",
   "version": "3.11.7"
  }
 },
 "nbformat": 4,
 "nbformat_minor": 5
}
